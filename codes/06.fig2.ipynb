{
 "cells": [
  {
   "cell_type": "code",
   "execution_count": null,
   "metadata": {
    "vscode": {
     "languageId": "r"
    }
   },
   "outputs": [],
   "source": [
    "library(\"tidyverse\")\n",
    "library(\"GOplot\")\n",
    "library(\"clusterProfiler\")\n",
    "library(\"org.Hs.eg.db\")"
   ]
  },
  {
   "cell_type": "markdown",
   "metadata": {},
   "source": [
    "# A. GO enrichment analysis of genes harboring significant AS events"
   ]
  },
  {
   "cell_type": "markdown",
   "metadata": {},
   "source": [
    "## 1. prepare data"
   ]
  },
  {
   "cell_type": "code",
   "execution_count": null,
   "metadata": {
    "vscode": {
     "languageId": "r"
    }
   },
   "outputs": [],
   "source": [
    "dir = \"results/rMATs/sig\"\n",
    "rmats_df = list()\n",
    "for (file in dir(\"results/rMATs/sig\")) {\n",
    "   rmats = read.table(paste0(dir, \"/\", file), header = T, sep = \"\\t\")\n",
    "    rmats_df[[file]] = rmats\n",
    "}\n",
    "# combine gain and loss file of the same AS type, like A3SS.sig.gain.txt and A3SS.sig.lose.txt\n",
    "AS_type = c(\"A3SS\", \"A5SS\", \"MXE\", \"RI\", \"SE\")\n",
    "for (i in 1:length(AS_type)) {\n",
    "    rmats_df[[paste0(AS_type[i])]] = rbind(rmats_df[[paste0(AS_type[i], \".sig.gain.txt\")]], rmats_df[[paste0(AS_type[i], \".sig.lose.txt\")]])\n",
    "}\n",
    "# drop elements end with .txt\n",
    "rmats_df = rmats_df[!grepl(\".txt\", names(rmats_df))]\n",
    "gene_list = list()\n",
    "for (i in 1:length(AS_type)) {\n",
    "    gene_list[[paste0(AS_type[i])]] = rmats_df[[paste0(AS_type[i])]] %>% dplyr::select(c(\"GeneID\", \"geneSymbol\",\"IncLevelDifference\"))\n",
    "    # add new column of AS type\n",
    "    gene_list[[paste0(AS_type[i])]] = cbind(gene_list[[paste0(AS_type[i])]], AS_type[i])\n",
    "}\n",
    "# rbind all AS type\n",
    "gene_list = do.call(rbind, gene_list)"
   ]
  },
  {
   "cell_type": "markdown",
   "metadata": {},
   "source": [
    "## 2. clusterProfiler"
   ]
  },
  {
   "cell_type": "code",
   "execution_count": 74,
   "metadata": {
    "vscode": {
     "languageId": "r"
    }
   },
   "outputs": [
    {
     "data": {
      "text/plain": [
       "$BP\n",
       "#\n",
       "# over-representation test\n",
       "#\n",
       "#...@organism \t Homo sapiens \n",
       "#...@ontology \t BP \n",
       "#...@keytype \t ENSEMBL \n",
       "#...@gene \t chr [1:57] \"ENSG00000079134\" \"ENSG00000114867\" \"ENSG00000288869\" ...\n",
       "#...pvalues adjusted by 'BH' with cutoff <0.05 \n",
       "#...0 enriched terms found\n",
       "#...Citation\n",
       " T Wu, E Hu, S Xu, M Chen, P Guo, Z Dai, T Feng, L Zhou, W Tang, L Zhan, X Fu, S Liu, X Bo, and G Yu.\n",
       " clusterProfiler 4.0: A universal enrichment tool for interpreting omics data.\n",
       " The Innovation. 2021, 2(3):100141 \n",
       "\n",
       "\n",
       "$CC\n",
       "#\n",
       "# over-representation test\n",
       "#\n",
       "#...@organism \t Homo sapiens \n",
       "#...@ontology \t CC \n",
       "#...@keytype \t ENSEMBL \n",
       "#...@gene \t chr [1:57] \"ENSG00000079134\" \"ENSG00000114867\" \"ENSG00000288869\" ...\n",
       "#...pvalues adjusted by 'BH' with cutoff <0.05 \n",
       "#...0 enriched terms found\n",
       "#...Citation\n",
       " T Wu, E Hu, S Xu, M Chen, P Guo, Z Dai, T Feng, L Zhou, W Tang, L Zhan, X Fu, S Liu, X Bo, and G Yu.\n",
       " clusterProfiler 4.0: A universal enrichment tool for interpreting omics data.\n",
       " The Innovation. 2021, 2(3):100141 \n",
       "\n",
       "\n",
       "$MF\n",
       "#\n",
       "# over-representation test\n",
       "#\n",
       "#...@organism \t Homo sapiens \n",
       "#...@ontology \t MF \n",
       "#...@keytype \t ENSEMBL \n",
       "#...@gene \t chr [1:57] \"ENSG00000079134\" \"ENSG00000114867\" \"ENSG00000288869\" ...\n",
       "#...pvalues adjusted by 'BH' with cutoff <0.05 \n",
       "#...2 enriched terms found\n",
       "'data.frame':\t2 obs. of  9 variables:\n",
       " $ ID         : chr  \"GO:0031369\" \"GO:0097153\"\n",
       " $ Description: chr  \"translation initiation factor binding\" \"cysteine-type endopeptidase activity involved in apoptotic process\"\n",
       " $ GeneRatio  : chr  \"3/45\" \"2/45\"\n",
       " $ BgRatio    : chr  \"33/21059\" \"13/21059\"\n",
       " $ pvalue     : num  4.76e-05 3.43e-04\n",
       " $ p.adjust   : num  0.0059 0.0213\n",
       " $ qvalue     : num  0.00446 0.01607\n",
       " $ geneID     : chr  \"EIF4G1/EIF3B/TBL2\" \"CASP10/CASP2\"\n",
       " $ Count      : int  3 2\n",
       "#...Citation\n",
       " T Wu, E Hu, S Xu, M Chen, P Guo, Z Dai, T Feng, L Zhou, W Tang, L Zhan, X Fu, S Liu, X Bo, and G Yu.\n",
       " clusterProfiler 4.0: A universal enrichment tool for interpreting omics data.\n",
       " The Innovation. 2021, 2(3):100141 \n",
       "\n"
      ]
     },
     "metadata": {},
     "output_type": "display_data"
    }
   ],
   "source": [
    "go_list = list()\n",
    "for (ont in c(\"BP\", \"CC\", \"MF\")) {\n",
    "    go_list[[ont]] = enrichGO(gene = gene_list$GeneID, \n",
    "                              OrgDb = org.Hs.eg.db, \n",
    "                              keyType = \"ENSEMBL\",\n",
    "                              ont = ont, \n",
    "                              pAdjustMethod = \"BH\", \n",
    "                              pvalueCutoff = 0.05, \n",
    "                            #   qvalueCutoff = 0.05, \n",
    "                              readable = T)\n",
    "}\n",
    "go_list"
   ]
  },
  {
   "cell_type": "markdown",
   "metadata": {},
   "source": [
    "只有MF有两个GO term，其他都没有。可能是数据的原因？"
   ]
  },
  {
   "cell_type": "code",
   "execution_count": null,
   "metadata": {
    "vscode": {
     "languageId": "r"
    }
   },
   "outputs": [],
   "source": [
    "# genes = A data frame with columns for 'ID', 'logFC' selected from rmat_df\n",
    "# rename GeneID to ID, IncLevelDifference to logFC in gene_list\n",
    "gene_list_sel = gene_list %>% dplyr::select(c(\"GeneID\", \"IncLevelDifference\"))\n",
    "colnames(gene_list_sel) = c(\"ID\", \"logFC\")\n",
    "get_circ = function(terms, gene, onc) {\n",
    " circ = circle_dat(terms, gene)\n",
    " return(circ)\n",
    "}\n",
    "circ_res = pmap(list(terms = go_list, gene = gene_list_sel, onc = c(\"BP\", \"CC\", \"MF\")), get_circ)"
   ]
  },
  {
   "cell_type": "code",
   "execution_count": 70,
   "metadata": {
    "vscode": {
     "languageId": "r"
    }
   },
   "outputs": [
    {
     "data": {
      "text/plain": [
       "$MF\n",
       "#\n",
       "# over-representation test\n",
       "#\n",
       "#...@organism \t Homo sapiens \n",
       "#...@ontology \t MF \n",
       "#...@keytype \t ENSEMBL \n",
       "#...@gene \t chr [1:57] \"ENSG00000079134\" \"ENSG00000114867\" \"ENSG00000288869\" ...\n",
       "#...pvalues adjusted by 'BH' with cutoff <0.05 \n",
       "#...2 enriched terms found\n",
       "'data.frame':\t2 obs. of  9 variables:\n",
       " $ ID         : chr  \"GO:0031369\" \"GO:0097153\"\n",
       " $ Description: chr  \"translation initiation factor binding\" \"cysteine-type endopeptidase activity involved in apoptotic process\"\n",
       " $ GeneRatio  : chr  \"3/45\" \"2/45\"\n",
       " $ BgRatio    : chr  \"33/21059\" \"13/21059\"\n",
       " $ pvalue     : num  4.76e-05 3.43e-04\n",
       " $ p.adjust   : num  0.0059 0.0213\n",
       " $ qvalue     : num  0.00446 0.01607\n",
       " $ geneID     : chr  \"EIF4G1/EIF3B/TBL2\" \"CASP10/CASP2\"\n",
       " $ Count      : int  3 2\n",
       "#...Citation\n",
       " T Wu, E Hu, S Xu, M Chen, P Guo, Z Dai, T Feng, L Zhou, W Tang, L Zhan, X Fu, S Liu, X Bo, and G Yu.\n",
       " clusterProfiler 4.0: A universal enrichment tool for interpreting omics data.\n",
       " The Innovation. 2021, 2(3):100141 \n",
       "\n"
      ]
     },
     "metadata": {},
     "output_type": "display_data"
    }
   ],
   "source": [
    "# gene_list$geneSymbol\n",
    "go_list"
   ]
  },
  {
   "cell_type": "code",
   "execution_count": null,
   "metadata": {
    "vscode": {
     "languageId": "r"
    }
   },
   "outputs": [],
   "source": [
    "%%R\n",
    "# library(GOplot)\n",
    "# library(tidyverse)\n",
    "# GO_data = list(\n",
    "#     BP = read_tsv(\"results/fig2/GO_Biological_Process_2023.human.enrichr.reports.txt\", skip=1),\n",
    "#     CC = read_tsv(\"results/fig2/GO_Cellular_Component_2023.human.enrichr.reports.txt\", skip=1),\n",
    "#     MF = read_tsv(\"results/fig2/GO_Molecular_Function_2023.human.enrichr.reports.txt\", skip=1)\n",
    "# )\n",
    "circ = circle_dat(GO_data$BP %>% as.data.frame())\n",
    "GO_data$BP"
   ]
  },
  {
   "cell_type": "code",
   "execution_count": null,
   "metadata": {
    "vscode": {
     "languageId": "r"
    }
   },
   "outputs": [],
   "source": [
    "# !R -e \"install.packages('lazyeval', repos='https://mirrors.tuna.tsinghua.edu.cn/CRAN/')\" \n",
    "import rpy2.robjects as robjects\n",
    "from rpy2.robjects.packages import importr\n",
    "GOplot = importr('GOplot')\n",
    "utils = importr('utils')\n",
    "base = importr('base')\n",
    "\n",
    "# check if pyforest is loaded and delete it from modules if it is\n",
    "if 'pyforest' in sys.modules:\n",
    "    del sys.modules['pyforest']\n",
    "\n",
    "# unimport pyforest\n",
    "import rpy2.ipython.html\n",
    "rpy2.ipython.html.init_printing()\n",
    "from rpy2.ipython.ggplot import image_png"
   ]
  },
  {
   "cell_type": "code",
   "execution_count": null,
   "metadata": {
    "vscode": {
     "languageId": "r"
    }
   },
   "outputs": [],
   "source": [
    "GO_data = utils.read_csv(f\"results/fig2/GO_Biological_Process_2023.human.enrichr.reports.txt\", sep=\"\\t\")\n",
    "# print(GO_data)\n",
    "GO_data"
   ]
  }
 ],
 "metadata": {
  "kernelspec": {
   "display_name": "R",
   "language": "R",
   "name": "ir"
  },
  "language_info": {
   "codemirror_mode": "r",
   "file_extension": ".r",
   "mimetype": "text/x-r-source",
   "name": "R",
   "pygments_lexer": "r",
   "version": "4.3.1"
  }
 },
 "nbformat": 4,
 "nbformat_minor": 2
}
