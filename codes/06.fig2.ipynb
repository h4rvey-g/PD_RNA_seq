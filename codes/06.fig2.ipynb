{
 "cells": [
  {
   "cell_type": "code",
   "execution_count": null,
   "metadata": {},
   "outputs": [],
   "source": [
    "# !pip install GSEApy\n",
    "# !pip install pyforest\n",
    "import pyforest\n",
    "import subprocess\n",
    "import gseapy as gp\n",
    "\n",
    "# get the path to the root of the repository\n",
    "# !git config --global --add safe.directory /home/jovyan/work\n",
    "# root_path = (\n",
    "#     subprocess.check_output([\"git\", \"rev-parse\", \"--show-toplevel\"])\n",
    "#     .decode(\"utf-8\")\n",
    "#     .strip()\n",
    "# )\n",
    "# # set the working directory to the root of the repository\n",
    "# os.chdir(root_path)\n"
   ]
  },
  {
   "cell_type": "markdown",
   "metadata": {},
   "source": [
    "# A. GO enrichment analysis of genes harboring significant AS events"
   ]
  },
  {
   "cell_type": "code",
   "execution_count": null,
   "metadata": {},
   "outputs": [],
   "source": [
    "# import results/rMATs/sig/A3SS.sig.gain.txt and A3SS.sig.lose.txt\n",
    "dir = \"results/rMATs/sig\"\n",
    "files = os.listdir(dir)\n",
    "dfs = []\n",
    "for f in files:\n",
    "    if f.startswith(\"SE\"):\n",
    "        df = pd.read_csv(f\"{dir}/{f}\", sep=\"\\t\")\n",
    "        # df['file'] = f.split('.')[0]\n",
    "        dfs.append(df)\n",
    "df = pd.concat(dfs)\n",
    "gene_list = df[\"geneSymbol\"].tolist()\n",
    "# drop Na\n",
    "gene_list = [i for i in gene_list if str(i) != \"nan\"]\n",
    "gene_set = [\n",
    "    \"GO_Biological_Process_2023\",\n",
    "    \"GO_Cellular_Component_2023\",\n",
    "    \"GO_Molecular_Function_2023\",\n",
    "]\n",
    "os.makedirs(f\"results/fig2/\", exist_ok=True)\n",
    "go_df = gp.enrichr(\n",
    "    gene_list=gene_list,\n",
    "    organism=\"human\",\n",
    "    gene_sets=gene_set,\n",
    "    outdir=f\"results/fig2/\",\n",
    "    no_plot=True,\n",
    "    format=\"pdf\",\n",
    ")"
   ]
  },
  {
   "cell_type": "code",
   "execution_count": 14,
   "metadata": {},
   "outputs": [],
   "source": [
    "import rpy2.robjects as robjects\n",
    "# robjects.r['install.packages']('GOplot')\n",
    "from rpy2.robjects.packages import importr\n",
    "GOplot = importr('GOplot')"
   ]
  },
  {
   "cell_type": "code",
   "execution_count": null,
   "metadata": {},
   "outputs": [],
   "source": []
  }
 ],
 "metadata": {
  "kernelspec": {
   "display_name": "Python 3 (ipykernel)",
   "language": "python",
   "name": "python3"
  },
  "language_info": {
   "codemirror_mode": {
    "name": "ipython",
    "version": 3
   },
   "file_extension": ".py",
   "mimetype": "text/x-python",
   "name": "python",
   "nbconvert_exporter": "python",
   "pygments_lexer": "ipython3",
   "version": "3.11.6"
  }
 },
 "nbformat": 4,
 "nbformat_minor": 2
}
